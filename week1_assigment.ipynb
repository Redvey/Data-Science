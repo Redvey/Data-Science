{
 "cells": [
  {
   "cell_type": "code",
   "execution_count": null,
   "metadata": {},
   "outputs": [],
   "source": [
    "# Q1. Create one variable containing following type of data:\n",
    "# (i) string\n",
    "# (ii) list\n",
    "# (iii) float\n",
    "# (iv) tuple"
   ]
  },
  {
   "cell_type": "code",
   "execution_count": 2,
   "metadata": {},
   "outputs": [
    {
     "name": "stdout",
     "output_type": "stream",
     "text": [
      "<class 'str'>\n"
     ]
    }
   ],
   "source": [
    "strv='Roopam'\n",
    "print(type(strv))"
   ]
  },
  {
   "cell_type": "code",
   "execution_count": 5,
   "metadata": {},
   "outputs": [
    {
     "name": "stdout",
     "output_type": "stream",
     "text": [
      "<class 'list'>\n"
     ]
    }
   ],
   "source": [
    "l=[10,12,45,'Roopam',True]\n",
    "print(type(l))"
   ]
  },
  {
   "cell_type": "code",
   "execution_count": 6,
   "metadata": {},
   "outputs": [
    {
     "name": "stdout",
     "output_type": "stream",
     "text": [
      "<class 'float'>\n"
     ]
    }
   ],
   "source": [
    "f=3.55\n",
    "print(type(f))"
   ]
  },
  {
   "cell_type": "code",
   "execution_count": 7,
   "metadata": {},
   "outputs": [
    {
     "name": "stdout",
     "output_type": "stream",
     "text": [
      "<class 'tuple'>\n"
     ]
    }
   ],
   "source": [
    "t=(19,34,21)\n",
    "print(type(t))"
   ]
  },
  {
   "cell_type": "code",
   "execution_count": 8,
   "metadata": {},
   "outputs": [],
   "source": [
    "# Q2. Given are some following variables containing data:\n",
    "# (i) var1 = ‘ ‘            ans:   String\n",
    "# (ii) var2 = ‘[ DS , ML , Python]’  ans: String\n",
    "# (iii) var3 = [ ‘DS’ , ’ML’ , ‘Python’ ] ans: list\n",
    "# (iv) var4 = 1.  ans:float\n",
    "# What will be the data type of the above given variable."
   ]
  },
  {
   "cell_type": "code",
   "execution_count": 9,
   "metadata": {},
   "outputs": [],
   "source": [
    "#proofs\n"
   ]
  },
  {
   "cell_type": "code",
   "execution_count": 11,
   "metadata": {},
   "outputs": [
    {
     "name": "stdout",
     "output_type": "stream",
     "text": [
      "<class 'str'>\n",
      "<class 'str'>\n",
      "<class 'list'>\n",
      "<class 'float'>\n"
     ]
    }
   ],
   "source": [
    "var1 = ''\n",
    "var2 = '[ DS , ML , Python]'\n",
    "var3 = [ 'DS' , 'ML' , 'Python' ]\n",
    "var4 = 1.\n",
    "l=[var1,var2,var3,var4]\n",
    "for i in l :\n",
    "    print(type(i))"
   ]
  },
  {
   "cell_type": "code",
   "execution_count": null,
   "metadata": {},
   "outputs": [],
   "source": [
    "# Explain the use of the following operators using an example:\n",
    "# (i) /\n",
    "# (ii) %\n",
    "# (iii) //\n",
    "# (iv) **"
   ]
  },
  {
   "cell_type": "code",
   "execution_count": 1,
   "metadata": {},
   "outputs": [
    {
     "name": "stdout",
     "output_type": "stream",
     "text": [
      "3.3333333333333335\n"
     ]
    }
   ],
   "source": [
    "# i) The \"/\" operator is the division operator in many programming languages, including Python. It performs division between two operands and returns the quotient as the result. Here's an example:\n",
    "\n",
    "a=10\n",
    "b=3\n",
    "r=a/b\n",
    "print(r)\n"
   ]
  },
  {
   "cell_type": "code",
   "execution_count": 4,
   "metadata": {},
   "outputs": [
    {
     "name": "stdout",
     "output_type": "stream",
     "text": [
      "1\n"
     ]
    }
   ],
   "source": [
    "# (ii) The \"%\" operator is the modulus operator in Python. It calculates the remainder when one operand is divided by another. Here's an example:\n",
    "x=10\n",
    "y=3\n",
    "r=x%y\n",
    "print(r)"
   ]
  },
  {
   "cell_type": "code",
   "execution_count": 5,
   "metadata": {},
   "outputs": [
    {
     "name": "stdout",
     "output_type": "stream",
     "text": [
      "3\n"
     ]
    }
   ],
   "source": [
    "# The \"//\" operator is the floor division operator in Python. It divides one operand by another and rounds the result down to the nearest whole number (towards negative infinity). Here's an example:\n",
    "a=10\n",
    "y=3\n",
    "r=a//y\n",
    "print(r)"
   ]
  },
  {
   "cell_type": "code",
   "execution_count": 6,
   "metadata": {},
   "outputs": [
    {
     "name": "stdout",
     "output_type": "stream",
     "text": [
      "27\n"
     ]
    }
   ],
   "source": [
    "# (iv) The \"**\" operator is the exponentiation operator in Python. It raises the first operand to the power of the second operand. Here's an example:\n",
    "r=3**3\n",
    "print(r)"
   ]
  },
  {
   "cell_type": "code",
   "execution_count": 7,
   "metadata": {},
   "outputs": [],
   "source": [
    "# Q4. Create a list of length 10 of your choice containing multiple types of data. Using for loop print the\n",
    "# element and its data type."
   ]
  },
  {
   "cell_type": "code",
   "execution_count": 9,
   "metadata": {},
   "outputs": [
    {
     "name": "stdout",
     "output_type": "stream",
     "text": [
      "element is 10  and it's type is <class 'int'>\n",
      "element is 5  and it's type is <class 'int'>\n",
      "element is 7  and it's type is <class 'int'>\n",
      "element is 8  and it's type is <class 'int'>\n",
      "element is roop  and it's type is <class 'str'>\n",
      "element is aanm  and it's type is <class 'str'>\n",
      "element is 45  and it's type is <class 'int'>\n",
      "element is 6  and it's type is <class 'int'>\n",
      "element is True  and it's type is <class 'bool'>\n",
      "element is False  and it's type is <class 'bool'>\n"
     ]
    }
   ],
   "source": [
    "l=[10,5,7,8,'roop','aanm',45,6,True,False]\n",
    "for i in l :\n",
    "    print(\"element is\",i,\" and it's type is\",type(i))"
   ]
  },
  {
   "cell_type": "code",
   "execution_count": 10,
   "metadata": {},
   "outputs": [],
   "source": [
    "# Q5. Using a while loop, verify if the number A is purely divisible by number B and if so then how many\n",
    "# times it can be divisible."
   ]
  },
  {
   "cell_type": "code",
   "execution_count": 14,
   "metadata": {},
   "outputs": [
    {
     "name": "stdout",
     "output_type": "stream",
     "text": [
      "1\n"
     ]
    }
   ],
   "source": [
    "a=int(input(\"Enter A:\"))\n",
    "b=int(input(\"Enter B:\"))\n",
    "count=0\n",
    "while a%b==0:\n",
    "    a=a//b\n",
    "    count+=1\n",
    "    print(count)"
   ]
  },
  {
   "cell_type": "code",
   "execution_count": 1,
   "metadata": {},
   "outputs": [],
   "source": [
    "# Q6. Create a list containing 25 int type data. Using for loop and if-else condition print if the element is\n",
    "# divisible by 3 or not."
   ]
  },
  {
   "cell_type": "code",
   "execution_count": 2,
   "metadata": {},
   "outputs": [
    {
     "name": "stdout",
     "output_type": "stream",
     "text": [
      "1 i is not divisible by 3\n",
      "2 i is not divisible by 3\n",
      "33 is divisible by 3\n",
      "4 i is not divisible by 3\n",
      "5 i is not divisible by 3\n",
      "7 i is not divisible by 3\n",
      "8 i is not divisible by 3\n",
      "6 is divisible by 3\n",
      "7 i is not divisible by 3\n",
      "88 i is not divisible by 3\n",
      "9 is divisible by 3\n",
      "11 i is not divisible by 3\n",
      "12 is divisible by 3\n",
      "13 i is not divisible by 3\n",
      "14 i is not divisible by 3\n",
      "15 is divisible by 3\n",
      "45 is divisible by 3\n",
      "67 i is not divisible by 3\n",
      "89 i is not divisible by 3\n",
      "61 i is not divisible by 3\n",
      "34 i is not divisible by 3\n",
      "23 i is not divisible by 3\n",
      "25 i is not divisible by 3\n",
      "67 i is not divisible by 3\n",
      "77 i is not divisible by 3\n"
     ]
    }
   ],
   "source": [
    "l=[1,2,33,4,5,7,8,6,7,88,9,11,12,13,14,15,45,67,89,61,34,23,25,67,77]\n",
    "for i in l :\n",
    "    if i%3==0:\n",
    "        print(i,\"is divisible by 3\")\n",
    "    else:\n",
    "        print(i,\"i is not divisible by 3\" )"
   ]
  },
  {
   "cell_type": "code",
   "execution_count": null,
   "metadata": {},
   "outputs": [],
   "source": [
    "# What do you understand about mutable and immutable data types? Give examples for both showing\n",
    "# this property."
   ]
  },
  {
   "cell_type": "code",
   "execution_count": null,
   "metadata": {},
   "outputs": [],
   "source": [
    "# Mutable and immutable are two fundamental concepts in programming related to data types. Mutable data types can be modified or changed after they are created, while immutable data types cannot be altered once they are created.\n",
    "\n",
    "# Here are examples of both mutable and immutable data types:\n",
    "\n",
    "# Mutable Data Types:\n",
    "\n",
    "# List: Lists in Python are mutable. You can add, remove, or modify elements in a list after it is created. Here's an example:\n",
    "\n",
    "# fruits = [\"apple\", \"banana\", \"cherry\"]\n",
    "# fruits[1] = \"orange\"  # Modifying an element\n",
    "# fruits.append(\"grape\")  # Adding an element\n",
    "# print(fruits)  # Output: [\"apple\", \"orange\", \"cherry\", \"grape\"]\n",
    "# Dictionary: Dictionaries in Python are mutable. You can add, remove, or modify key-value pairs in a dictionary after it is created. Here's an example:\n",
    "\n",
    "\n",
    "# person = {\"name\": \"John\", \"age\": 25}\n",
    "# person[\"age\"] = 26  # Modifying a value\n",
    "# person[\"city\"] = \"New York\"  # Adding a key-value pair\n",
    "# print(person)  # Output: {\"name\": \"John\", \"age\": 26, \"city\": \"New York\"}\n",
    "# Immutable Data Types:\n",
    "\n",
    "# String: Strings in Python are immutable. Once a string is created, you cannot change its characters. Here's an example:\n",
    "\n",
    "\n",
    "# name = \"Alice\"\n",
    "# # name[0] = \"B\"  # This will raise an error, as strings are immutable\n",
    "# print(name)  # Output: \"Alice\"\n",
    "# Tuple: Tuples in Python are immutable. Once a tuple is created, you cannot modify its elements. Here's an example:\n",
    "\n",
    "# numbers = (1, 2, 3)\n",
    "# # numbers[1] = 4  # This will raise an error, as tuples are immutable\n",
    "# print(numbers)  # Output: (1, 2, 3)\n",
    "# In the examples above, the mutable data types (list, dictionary) allow modifications to their elements or values after creation. On the other hand, the immutable data types (string, tuple) do not allow such modifications and maintain their original values throughout their lifetimes"
   ]
  }
 ],
 "metadata": {
  "kernelspec": {
   "display_name": "Python 3",
   "language": "python",
   "name": "python3"
  },
  "language_info": {
   "codemirror_mode": {
    "name": "ipython",
    "version": 3
   },
   "file_extension": ".py",
   "mimetype": "text/x-python",
   "name": "python",
   "nbconvert_exporter": "python",
   "pygments_lexer": "ipython3",
   "version": "3.10.8"
  },
  "orig_nbformat": 4
 },
 "nbformat": 4,
 "nbformat_minor": 2
}
